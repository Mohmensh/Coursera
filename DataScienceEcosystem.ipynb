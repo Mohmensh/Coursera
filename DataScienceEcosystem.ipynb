{
  "nbformat": 4,
  "nbformat_minor": 0,
  "metadata": {
    "colab": {
      "provenance": []
    },
    "kernelspec": {
      "name": "python3",
      "display_name": "Python 3"
    },
    "language_info": {
      "name": "python"
    }
  },
  "cells": [
    {
      "cell_type": "code",
      "execution_count": null,
      "metadata": {
        "id": "wL0nnlpkJjtk"
      },
      "outputs": [],
      "source": []
    },
    {
      "cell_type": "markdown",
      "source": [
        "Exercise 2: Create markdown cell with title of the notebook\n",
        "\n"
      ],
      "metadata": {
        "id": "XPz_H71sJt1T"
      }
    },
    {
      "cell_type": "markdown",
      "source": [
        "# Data Science Tools and Ecosystem"
      ],
      "metadata": {
        "id": "uE1tVVpiJx1z"
      }
    },
    {
      "cell_type": "markdown",
      "source": [
        "Exercise 3 - Create a markdown cell for an introduction\n",
        "\n"
      ],
      "metadata": {
        "id": "gQdGiNcjKzdv"
      }
    },
    {
      "cell_type": "markdown",
      "source": [
        "In this notebook, Data Science Tools and Ecosystem are summarized."
      ],
      "metadata": {
        "id": "nuEOGzZaK21L"
      }
    },
    {
      "cell_type": "markdown",
      "source": [
        "**Objectives:**\n",
        "\n",
        "- List popular languages for Data Science\n",
        "- Highlight commonly used Data Science libraries\n",
        "- Introduce Data Science tools and environments\n",
        "- Provide an overview of Data Science ecosystems\n"
      ],
      "metadata": {
        "id": "1cXFK3CuNlEX"
      }
    },
    {
      "cell_type": "markdown",
      "source": [
        "Exercise 4 - Create a markdown cell to list data science languages\n",
        "\n",
        "Some of the popular languages that Data Scientists use are:\n",
        "\n",
        "1. Python\n",
        "2. R\n",
        "3. SQL\n",
        "4. Julia\n",
        "5. Scala\n"
      ],
      "metadata": {
        "id": "btWW0LcRLWAO"
      }
    },
    {
      "cell_type": "markdown",
      "source": [
        "Exercise 5 - Create a markdown cell to list data science libraries\n",
        "\n",
        "Some of the commonly used libraries used by Data Scientists include:\n",
        "\n",
        "1. NumPy\n",
        "2. pandas\n",
        "3. matplotlib\n",
        "4. scikit-learn\n"
      ],
      "metadata": {
        "id": "Qee9IbdvMLr5"
      }
    },
    {
      "cell_type": "markdown",
      "source": [
        "Exercise 6 - Create a markdown cell with a table of Data Science tools\n",
        "\n",
        "| Data Science Tools |\n",
        "|--------------------|\n",
        "| Jupyter Notebook   |\n",
        "| RStudio            |\n",
        "| VS Code            |\n"
      ],
      "metadata": {
        "id": "fa0LfxvNLz2O"
      }
    },
    {
      "cell_type": "markdown",
      "source": [
        "Exercise 7 - Create a markdown cell introducing arithmetic expression examples\n",
        "\n",
        "### Below are a few examples of evaluating arithmetic expressions in Python.\n"
      ],
      "metadata": {
        "id": "xGObpIX1L6hR"
      }
    },
    {
      "cell_type": "code",
      "source": [
        "# Exercise 8 - Create a code cell to multiply and add numbers\n",
        "# This a simple arithmetic expression to mutiply then add integers\n",
        "(3*4)+5"
      ],
      "metadata": {
        "colab": {
          "base_uri": "https://localhost:8080/"
        },
        "id": "swtcgnIJK73x",
        "outputId": "03cf4c00-f78d-4472-b707-2c3977ab41a0"
      },
      "execution_count": 1,
      "outputs": [
        {
          "output_type": "execute_result",
          "data": {
            "text/plain": [
              "17"
            ]
          },
          "metadata": {},
          "execution_count": 1
        }
      ]
    },
    {
      "cell_type": "code",
      "source": [
        "# Exercise 9 - Create a code cell to convert minutes to hours\n",
        "# This will convert 200 minutes to hours by diving by 60\n",
        "200/60"
      ],
      "metadata": {
        "colab": {
          "base_uri": "https://localhost:8080/"
        },
        "id": "VR5TRsbuM6ax",
        "outputId": "8e822609-8e60-4b53-cc2e-1c366f53069e"
      },
      "execution_count": 2,
      "outputs": [
        {
          "output_type": "execute_result",
          "data": {
            "text/plain": [
              "3.3333333333333335"
            ]
          },
          "metadata": {},
          "execution_count": 2
        }
      ]
    },
    {
      "cell_type": "markdown",
      "source": [
        "Exercise 11 - Create a markdown cell to indicate the Author's name\n",
        "\n",
        "## Author\n",
        "Mohamed"
      ],
      "metadata": {
        "id": "F50W6SIDN1cm"
      }
    },
    {
      "cell_type": "code",
      "source": [],
      "metadata": {
        "id": "ZT94Z4mMNM5L"
      },
      "execution_count": null,
      "outputs": []
    }
  ]
}